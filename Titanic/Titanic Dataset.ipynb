{
 "cells": [
  {
   "cell_type": "code",
   "execution_count": 98,
   "metadata": {
    "collapsed": false
   },
   "outputs": [],
   "source": [
    "import numpy as np\n",
    "import matplotlib.pyplot as plt\n",
    "import pandas as pd\n",
    "import matplotlib\n",
    "\n",
    "from sklearn import linear_model\n",
    "%matplotlib inline\n",
    "matplotlib.rcParams['figure.figsize'] = 15, 7.5\n",
    "\n",
    "\n",
    "# The training dataset \n",
    "df=pd.read_csv('/Users/johnreid/DSGPractice/Titanic/data/train.csv', sep=',',header=0)\n",
    "pclass_train = np.transpose([df[\"Pclass\"]])\n",
    "survived_train = np.transpose([df[\"Survived\"]])\n",
    "\n",
    "# The test dataset\n",
    "df_test=pd.read_csv('/Users/johnreid/DSGPractice/Titanic/data/test.csv', sep=',',header=0)\n",
    "pclass_test = np.transpose([df_test[\"Pclass\"]])\n",
    "\n",
    "# There are some missing age values. Let's fill them in with the median age\n",
    "df[\"Age\"].fillna(df[\"Age\"].median(), inplace = True)"
   ]
  },
  {
   "cell_type": "markdown",
   "metadata": {},
   "source": [
    "Let's start by visualizing some of the data"
   ]
  },
  {
   "cell_type": "code",
   "execution_count": 46,
   "metadata": {
    "collapsed": false
   },
   "outputs": [
    {
     "data": {
      "text/html": [
       "<div>\n",
       "<table border=\"1\" class=\"dataframe\">\n",
       "  <thead>\n",
       "    <tr style=\"text-align: right;\">\n",
       "      <th></th>\n",
       "      <th>PassengerId</th>\n",
       "      <th>Survived</th>\n",
       "      <th>Pclass</th>\n",
       "      <th>Age</th>\n",
       "      <th>SibSp</th>\n",
       "      <th>Parch</th>\n",
       "      <th>Fare</th>\n",
       "    </tr>\n",
       "  </thead>\n",
       "  <tbody>\n",
       "    <tr>\n",
       "      <th>count</th>\n",
       "      <td>891.000000</td>\n",
       "      <td>891.000000</td>\n",
       "      <td>891.000000</td>\n",
       "      <td>891.000000</td>\n",
       "      <td>891.000000</td>\n",
       "      <td>891.000000</td>\n",
       "      <td>891.000000</td>\n",
       "    </tr>\n",
       "    <tr>\n",
       "      <th>mean</th>\n",
       "      <td>446.000000</td>\n",
       "      <td>0.383838</td>\n",
       "      <td>2.308642</td>\n",
       "      <td>29.361582</td>\n",
       "      <td>0.523008</td>\n",
       "      <td>0.381594</td>\n",
       "      <td>32.204208</td>\n",
       "    </tr>\n",
       "    <tr>\n",
       "      <th>std</th>\n",
       "      <td>257.353842</td>\n",
       "      <td>0.486592</td>\n",
       "      <td>0.836071</td>\n",
       "      <td>13.019697</td>\n",
       "      <td>1.102743</td>\n",
       "      <td>0.806057</td>\n",
       "      <td>49.693429</td>\n",
       "    </tr>\n",
       "    <tr>\n",
       "      <th>min</th>\n",
       "      <td>1.000000</td>\n",
       "      <td>0.000000</td>\n",
       "      <td>1.000000</td>\n",
       "      <td>0.420000</td>\n",
       "      <td>0.000000</td>\n",
       "      <td>0.000000</td>\n",
       "      <td>0.000000</td>\n",
       "    </tr>\n",
       "    <tr>\n",
       "      <th>25%</th>\n",
       "      <td>223.500000</td>\n",
       "      <td>0.000000</td>\n",
       "      <td>2.000000</td>\n",
       "      <td>22.000000</td>\n",
       "      <td>0.000000</td>\n",
       "      <td>0.000000</td>\n",
       "      <td>7.910400</td>\n",
       "    </tr>\n",
       "    <tr>\n",
       "      <th>50%</th>\n",
       "      <td>446.000000</td>\n",
       "      <td>0.000000</td>\n",
       "      <td>3.000000</td>\n",
       "      <td>28.000000</td>\n",
       "      <td>0.000000</td>\n",
       "      <td>0.000000</td>\n",
       "      <td>14.454200</td>\n",
       "    </tr>\n",
       "    <tr>\n",
       "      <th>75%</th>\n",
       "      <td>668.500000</td>\n",
       "      <td>1.000000</td>\n",
       "      <td>3.000000</td>\n",
       "      <td>35.000000</td>\n",
       "      <td>1.000000</td>\n",
       "      <td>0.000000</td>\n",
       "      <td>31.000000</td>\n",
       "    </tr>\n",
       "    <tr>\n",
       "      <th>max</th>\n",
       "      <td>891.000000</td>\n",
       "      <td>1.000000</td>\n",
       "      <td>3.000000</td>\n",
       "      <td>80.000000</td>\n",
       "      <td>8.000000</td>\n",
       "      <td>6.000000</td>\n",
       "      <td>512.329200</td>\n",
       "    </tr>\n",
       "  </tbody>\n",
       "</table>\n",
       "</div>"
      ],
      "text/plain": [
       "       PassengerId    Survived      Pclass         Age       SibSp  \\\n",
       "count   891.000000  891.000000  891.000000  891.000000  891.000000   \n",
       "mean    446.000000    0.383838    2.308642   29.361582    0.523008   \n",
       "std     257.353842    0.486592    0.836071   13.019697    1.102743   \n",
       "min       1.000000    0.000000    1.000000    0.420000    0.000000   \n",
       "25%     223.500000    0.000000    2.000000   22.000000    0.000000   \n",
       "50%     446.000000    0.000000    3.000000   28.000000    0.000000   \n",
       "75%     668.500000    1.000000    3.000000   35.000000    1.000000   \n",
       "max     891.000000    1.000000    3.000000   80.000000    8.000000   \n",
       "\n",
       "            Parch        Fare  \n",
       "count  891.000000  891.000000  \n",
       "mean     0.381594   32.204208  \n",
       "std      0.806057   49.693429  \n",
       "min      0.000000    0.000000  \n",
       "25%      0.000000    7.910400  \n",
       "50%      0.000000   14.454200  \n",
       "75%      0.000000   31.000000  \n",
       "max      6.000000  512.329200  "
      ]
     },
     "execution_count": 46,
     "metadata": {},
     "output_type": "execute_result"
    }
   ],
   "source": [
    "df.describe()\n"
   ]
  },
  {
   "cell_type": "code",
   "execution_count": 76,
   "metadata": {
    "collapsed": false
   },
   "outputs": [
    {
     "data": {
      "image/png": "[encoded data removed]",
      "text/plain": [
       "<matplotlib.figure.Figure at 0x10b5d4050>"
      ]
     },
     "metadata": {},
     "output_type": "display_data"
    }
   ],
   "source": [
    "n_groups = 3\n",
    "index = np.arange(n_groups)\n",
    "\n",
    "fig, ax = plt.subplots()\n",
    "\n",
    "bar_width = 0.35\n",
    "opacity = 0.4\n",
    "\n",
    "survived_class = df.loc[df[\"Survived\"] == 1, \"Pclass\"].value_counts().sort_index(0)\n",
    "died_class = df.loc[df[\"Survived\"] == 0, \"Pclass\"].value_counts().sort_index(0)\n",
    "\n",
    "rects1 = plt.bar(index, survived_class, bar_width,\n",
    "                 alpha=opacity,\n",
    "                 color='b',\n",
    "                 label='Survived')\n",
    "\n",
    "rects2 = plt.bar(index + bar_width, died_class, bar_width,\n",
    "                 alpha=opacity,\n",
    "                 color='r',\n",
    "                 label='Died')\n",
    "\n",
    "plt.xlabel('Class')\n",
    "plt.ylabel('Count')\n",
    "plt.title('Survival by class')\n",
    "plt.xticks(index + bar_width / 2, ('1', '2', '3'))\n",
    "plt.legend()\n",
    "plt.tight_layout()\n",
    "plt.show()"
   ]
  },
  {
   "cell_type": "code",
   "execution_count": 90,
   "metadata": {
    "collapsed": false
   },
   "outputs": [
    {
     "data": {
      "image/png": "[encoded data removed]",
      "text/plain": [
       "<matplotlib.figure.Figure at 0x119df4b50>"
      ]
     },
     "metadata": {},
     "output_type": "display_data"
    }
   ],
   "source": [
    "n_groups = (set(df[\"Age\"]))\n",
    "n_groups\n",
    "\n",
    "plt.hist((df.loc[df[\"Survived\"] == 1, \"Age\"], df.loc[df[\"Survived\"] == 0, \"Age\"]), \\\n",
    "         bins = 30, label = [\"Survived\", \"Died\"])\n",
    "plt.xlabel(\"Age\")\n",
    "plt.ylabel(\"Count\")\n",
    "\n",
    "plt.legend()\n",
    "plt.show()"
   ]
  },
  {
   "cell_type": "code",
   "execution_count": 116,
   "metadata": {
    "collapsed": false
   },
   "outputs": [
    {
     "name": "stdout",
     "output_type": "stream",
     "text": [
      "891\n"
     ]
    },
    {
     "data": {
      "image/png": "[encoded data removed]",
      "text/plain": [
       "<matplotlib.figure.Figure at 0x10b4fafd0>"
      ]
     },
     "metadata": {},
     "output_type": "display_data"
    },
    {
     "name": "stdout",
     "output_type": "stream",
     "text": [
      "Accuracy using logistic regression with ticket class to predict survival is 67.9%\n"
     ]
    }
   ],
   "source": [
    "age_train = np.transpose([df[\"Age\"]])\n",
    "\n",
    "print(len(age_train))\n",
    "\n",
    "clf = linear_model.LogisticRegression(C=1e5)\n",
    "clf.fit(pclass_train, survived_train)\n",
    "\n",
    "plt.figure(1, figsize=(4, 3))\n",
    "plt.clf()\n",
    "plt.scatter(pclass_train.ravel(), survived_train, color='black', zorder=20)\n",
    "# X_test = np.linspace(-5, 10, 300)\n",
    "\n",
    "\n",
    "def model(x):\n",
    "    return 1 / (1 + np.exp(-x))\n",
    "\n",
    "loss = model(pclass_train * clf.coef_ + clf.intercept_).ravel()\n",
    "plt.plot(pclass_train, loss, color='red', linewidth=3)\n",
    "\n",
    "plt.show()\n",
    "\n",
    "num_passengers = len(df[\"Survived\"])\n",
    "loss = [1 if value > 0.5 else 0 for value in loss]\n",
    "result = sum([1 if x == y else 0 for x, y in zip(loss, survived_train)])\n",
    "print(\"Accuracy using logistic regression with ticket class to predict survival is %.1f%%\" \\\n",
    "      % (float(result)/num_passengers * 100.0))"
   ]
  },
  {
   "cell_type": "code",
   "execution_count": 115,
   "metadata": {
    "collapsed": false
   },
   "outputs": [
    {
     "data": {
      "image/png": "[encoded data removed]",
      "text/plain": [
       "<matplotlib.figure.Figure at 0x10b52d690>"
      ]
     },
     "metadata": {},
     "output_type": "display_data"
    },
    {
     "name": "stdout",
     "output_type": "stream",
     "text": [
      "Accuracy using logistic regression with age to predict survival is 61.6%\n"
     ]
    }
   ],
   "source": [
    "clf = linear_model.LogisticRegression(C=1e5)\n",
    "clf.fit(age_train, survived_train)\n",
    "\n",
    "plt.figure(1, figsize=(4, 3))\n",
    "plt.clf()\n",
    "plt.scatter(age_train.ravel(), survived_train, color='black', zorder=20)\n",
    "# X_test = np.linspace(-5, 10, 300)\n",
    "\n",
    "\n",
    "def model(x):\n",
    "    return 1 / (1 + np.exp(-x))\n",
    "\n",
    "loss = model(age_train * clf.coef_ + clf.intercept_).ravel()\n",
    "plt.plot(age_train, loss, color='red', linewidth=3)\n",
    "\n",
    "plt.show()\n",
    "\n",
    "num_passengers = len(df[\"Survived\"])\n",
    "loss = [1 if value > 0.5 else 0 for value in loss]\n",
    "result = sum([1 if x == y else 0 for x, y in zip(loss, survived_train)])\n",
    "print(\"Accuracy using logistic regression with age to predict survival is %.1f%%\" \\\n",
    "      % (float(result)/num_passengers * 100.0))"
   ]
  },
  {
   "cell_type": "code",
   "execution_count": 125,
   "metadata": {
    "collapsed": false
   },
   "outputs": [
    {
     "name": "stdout",
     "output_type": "stream",
     "text": [
      "Accuracy using 5 input variables is 70.1%\n"
     ]
    }
   ],
   "source": [
    "from sklearn import datasets, cross_validation, metrics\n",
    "from sklearn.linear_model import LogisticRegression\n",
    "\n",
    "# Get all the numeric data entries\n",
    "mat = df.as_matrix([\"Age\", \"Fare\", \"Pclass\", \"SibSp\", \"Parch\"])\n",
    "predicted = cross_validation.cross_val_predict(LogisticRegression(), mat, df['Survived'], cv=10)\n",
    "res = metrics.accuracy_score(df[\"Survived\"], predicted)\n",
    "print(\"Accuracy using 5 input variables is %.1f%%\" % (res * 100))"
   ]
  }
 ],
 "metadata": {
  "anaconda-cloud": {},
  "kernelspec": {
   "display_name": "Python [conda root]",
   "language": "python",
   "name": "conda-root-py"
  },
  "language_info": {
   "codemirror_mode": {
    "name": "ipython",
    "version": 2
   },
   "file_extension": ".py",
   "mimetype": "text/x-python",
   "name": "python",
   "nbconvert_exporter": "python",
   "pygments_lexer": "ipython2",
   "version": "2.7.13"
  }
 },
 "nbformat": 4,
 "nbformat_minor": 2
}
