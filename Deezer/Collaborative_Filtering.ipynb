{
 "cells": [
  {
   "cell_type": "markdown",
   "metadata": {},
   "source": [
    "# Part 1: Exploring the data"
   ]
  },
  {
   "cell_type": "code",
   "execution_count": 19,
   "metadata": {
    "collapsed": true
   },
   "outputs": [],
   "source": [
    "# --- Import Libraries --- #\n",
    "import pandas as pd\n",
    "from scipy.spatial.distance import cosine\n",
    "import matplotlib.pyplot as plt\n",
    "import numpy as np"
   ]
  },
  {
   "cell_type": "code",
   "execution_count": 2,
   "metadata": {
    "collapsed": false
   },
   "outputs": [
    {
     "data": {
      "text/html": [
       "<div>\n",
       "<table border=\"1\" class=\"dataframe\">\n",
       "  <thead>\n",
       "    <tr style=\"text-align: right;\">\n",
       "      <th></th>\n",
       "      <th>genre_id</th>\n",
       "      <th>ts_listen</th>\n",
       "      <th>media_id</th>\n",
       "      <th>album_id</th>\n",
       "      <th>context_type</th>\n",
       "      <th>release_date</th>\n",
       "      <th>platform_name</th>\n",
       "      <th>platform_family</th>\n",
       "      <th>media_duration</th>\n",
       "      <th>listen_type</th>\n",
       "      <th>user_gender</th>\n",
       "      <th>user_id</th>\n",
       "      <th>artist_id</th>\n",
       "      <th>user_age</th>\n",
       "      <th>is_listened</th>\n",
       "    </tr>\n",
       "  </thead>\n",
       "  <tbody>\n",
       "    <tr>\n",
       "      <th>0</th>\n",
       "      <td>25471</td>\n",
       "      <td>1480597215</td>\n",
       "      <td>222606</td>\n",
       "      <td>41774</td>\n",
       "      <td>12</td>\n",
       "      <td>20040704</td>\n",
       "      <td>1</td>\n",
       "      <td>0</td>\n",
       "      <td>223</td>\n",
       "      <td>0</td>\n",
       "      <td>0</td>\n",
       "      <td>9241</td>\n",
       "      <td>55164</td>\n",
       "      <td>29</td>\n",
       "      <td>0</td>\n",
       "    </tr>\n",
       "    <tr>\n",
       "      <th>1</th>\n",
       "      <td>25571</td>\n",
       "      <td>1480544735</td>\n",
       "      <td>250467</td>\n",
       "      <td>43941</td>\n",
       "      <td>0</td>\n",
       "      <td>20060301</td>\n",
       "      <td>2</td>\n",
       "      <td>1</td>\n",
       "      <td>171</td>\n",
       "      <td>0</td>\n",
       "      <td>0</td>\n",
       "      <td>16547</td>\n",
       "      <td>55830</td>\n",
       "      <td>30</td>\n",
       "      <td>1</td>\n",
       "    </tr>\n",
       "    <tr>\n",
       "      <th>2</th>\n",
       "      <td>16</td>\n",
       "      <td>1479563953</td>\n",
       "      <td>305197</td>\n",
       "      <td>48078</td>\n",
       "      <td>1</td>\n",
       "      <td>20140714</td>\n",
       "      <td>2</td>\n",
       "      <td>1</td>\n",
       "      <td>149</td>\n",
       "      <td>1</td>\n",
       "      <td>1</td>\n",
       "      <td>7665</td>\n",
       "      <td>2704</td>\n",
       "      <td>29</td>\n",
       "      <td>1</td>\n",
       "    </tr>\n",
       "    <tr>\n",
       "      <th>3</th>\n",
       "      <td>7</td>\n",
       "      <td>1480152098</td>\n",
       "      <td>900502</td>\n",
       "      <td>71521</td>\n",
       "      <td>0</td>\n",
       "      <td>20001030</td>\n",
       "      <td>0</td>\n",
       "      <td>0</td>\n",
       "      <td>240</td>\n",
       "      <td>0</td>\n",
       "      <td>1</td>\n",
       "      <td>1580</td>\n",
       "      <td>938</td>\n",
       "      <td>30</td>\n",
       "      <td>0</td>\n",
       "    </tr>\n",
       "    <tr>\n",
       "      <th>4</th>\n",
       "      <td>7</td>\n",
       "      <td>1478368974</td>\n",
       "      <td>542335</td>\n",
       "      <td>71718</td>\n",
       "      <td>0</td>\n",
       "      <td>20080215</td>\n",
       "      <td>0</td>\n",
       "      <td>0</td>\n",
       "      <td>150</td>\n",
       "      <td>0</td>\n",
       "      <td>1</td>\n",
       "      <td>1812</td>\n",
       "      <td>2939</td>\n",
       "      <td>24</td>\n",
       "      <td>1</td>\n",
       "    </tr>\n",
       "  </tbody>\n",
       "</table>\n",
       "</div>"
      ],
      "text/plain": [
       "   genre_id   ts_listen  media_id  album_id  context_type  release_date  \\\n",
       "0     25471  1480597215    222606     41774            12      20040704   \n",
       "1     25571  1480544735    250467     43941             0      20060301   \n",
       "2        16  1479563953    305197     48078             1      20140714   \n",
       "3         7  1480152098    900502     71521             0      20001030   \n",
       "4         7  1478368974    542335     71718             0      20080215   \n",
       "\n",
       "   platform_name  platform_family  media_duration  listen_type  user_gender  \\\n",
       "0              1                0             223            0            0   \n",
       "1              2                1             171            0            0   \n",
       "2              2                1             149            1            1   \n",
       "3              0                0             240            0            1   \n",
       "4              0                0             150            0            1   \n",
       "\n",
       "   user_id  artist_id  user_age  is_listened  \n",
       "0     9241      55164        29            0  \n",
       "1    16547      55830        30            1  \n",
       "2     7665       2704        29            1  \n",
       "3     1580        938        30            0  \n",
       "4     1812       2939        24            1  "
      ]
     },
     "execution_count": 2,
     "metadata": {},
     "output_type": "execute_result"
    }
   ],
   "source": [
    "# --- Read Data --- #\n",
    "data = pd.read_csv('train.csv')\n",
    "data.head()"
   ]
  },
  {
   "cell_type": "code",
   "execution_count": 55,
   "metadata": {
    "collapsed": false
   },
   "outputs": [
    {
     "data": {
      "text/html": [
       "<div>\n",
       "<table border=\"1\" class=\"dataframe\">\n",
       "  <thead>\n",
       "    <tr style=\"text-align: right;\">\n",
       "      <th></th>\n",
       "      <th>genre_id</th>\n",
       "      <th>ts_listen</th>\n",
       "      <th>media_id</th>\n",
       "      <th>album_id</th>\n",
       "      <th>context_type</th>\n",
       "      <th>release_date</th>\n",
       "      <th>platform_name</th>\n",
       "      <th>platform_family</th>\n",
       "      <th>media_duration</th>\n",
       "      <th>listen_type</th>\n",
       "      <th>user_gender</th>\n",
       "      <th>user_id</th>\n",
       "      <th>artist_id</th>\n",
       "      <th>user_age</th>\n",
       "      <th>is_listened</th>\n",
       "    </tr>\n",
       "  </thead>\n",
       "  <tbody>\n",
       "    <tr>\n",
       "      <th>count</th>\n",
       "      <td>7.558834e+06</td>\n",
       "      <td>7.558834e+06</td>\n",
       "      <td>7.558834e+06</td>\n",
       "      <td>7.558834e+06</td>\n",
       "      <td>7.558834e+06</td>\n",
       "      <td>7.558834e+06</td>\n",
       "      <td>7.558834e+06</td>\n",
       "      <td>7.558834e+06</td>\n",
       "      <td>7.558834e+06</td>\n",
       "      <td>7.558834e+06</td>\n",
       "      <td>7.558834e+06</td>\n",
       "      <td>7.558834e+06</td>\n",
       "      <td>7.558834e+06</td>\n",
       "      <td>7.558834e+06</td>\n",
       "      <td>7.558834e+06</td>\n",
       "    </tr>\n",
       "    <tr>\n",
       "      <th>mean</th>\n",
       "      <td>2.245030e+03</td>\n",
       "      <td>1.479011e+09</td>\n",
       "      <td>7.839624e+07</td>\n",
       "      <td>8.136169e+06</td>\n",
       "      <td>2.360018e+00</td>\n",
       "      <td>2.011388e+07</td>\n",
       "      <td>4.731900e-01</td>\n",
       "      <td>2.558086e-01</td>\n",
       "      <td>2.311527e+02</td>\n",
       "      <td>3.068742e-01</td>\n",
       "      <td>3.936884e-01</td>\n",
       "      <td>4.037300e+03</td>\n",
       "      <td>1.500740e+06</td>\n",
       "      <td>2.431278e+01</td>\n",
       "      <td>6.840330e-01</td>\n",
       "    </tr>\n",
       "    <tr>\n",
       "      <th>std</th>\n",
       "      <td>1.308979e+04</td>\n",
       "      <td>1.189935e+07</td>\n",
       "      <td>5.133633e+07</td>\n",
       "      <td>5.460090e+06</td>\n",
       "      <td>4.659856e+00</td>\n",
       "      <td>7.570138e+04</td>\n",
       "      <td>7.353008e-01</td>\n",
       "      <td>5.481663e-01</td>\n",
       "      <td>7.999463e+01</td>\n",
       "      <td>4.611968e-01</td>\n",
       "      <td>4.885672e-01</td>\n",
       "      <td>3.954754e+03</td>\n",
       "      <td>2.519546e+06</td>\n",
       "      <td>3.767797e+00</td>\n",
       "      <td>4.648999e-01</td>\n",
       "    </tr>\n",
       "    <tr>\n",
       "      <th>min</th>\n",
       "      <td>0.000000e+00</td>\n",
       "      <td>1.000000e+00</td>\n",
       "      <td>2.000580e+05</td>\n",
       "      <td>1.976000e+03</td>\n",
       "      <td>0.000000e+00</td>\n",
       "      <td>1.900010e+07</td>\n",
       "      <td>0.000000e+00</td>\n",
       "      <td>0.000000e+00</td>\n",
       "      <td>0.000000e+00</td>\n",
       "      <td>0.000000e+00</td>\n",
       "      <td>0.000000e+00</td>\n",
       "      <td>0.000000e+00</td>\n",
       "      <td>1.000000e+00</td>\n",
       "      <td>1.800000e+01</td>\n",
       "      <td>0.000000e+00</td>\n",
       "    </tr>\n",
       "    <tr>\n",
       "      <th>25%</th>\n",
       "      <td>0.000000e+00</td>\n",
       "      <td>1.478460e+09</td>\n",
       "      <td>1.376614e+07</td>\n",
       "      <td>1.255566e+06</td>\n",
       "      <td>0.000000e+00</td>\n",
       "      <td>2.009123e+07</td>\n",
       "      <td>0.000000e+00</td>\n",
       "      <td>0.000000e+00</td>\n",
       "      <td>1.960000e+02</td>\n",
       "      <td>0.000000e+00</td>\n",
       "      <td>0.000000e+00</td>\n",
       "      <td>8.990000e+02</td>\n",
       "      <td>2.605000e+03</td>\n",
       "      <td>2.100000e+01</td>\n",
       "      <td>0.000000e+00</td>\n",
       "    </tr>\n",
       "    <tr>\n",
       "      <th>50%</th>\n",
       "      <td>3.000000e+00</td>\n",
       "      <td>1.479057e+09</td>\n",
       "      <td>9.380660e+07</td>\n",
       "      <td>9.525626e+06</td>\n",
       "      <td>1.000000e+00</td>\n",
       "      <td>2.014103e+07</td>\n",
       "      <td>0.000000e+00</td>\n",
       "      <td>0.000000e+00</td>\n",
       "      <td>2.220000e+02</td>\n",
       "      <td>0.000000e+00</td>\n",
       "      <td>0.000000e+00</td>\n",
       "      <td>2.738000e+03</td>\n",
       "      <td>1.941720e+05</td>\n",
       "      <td>2.500000e+01</td>\n",
       "      <td>1.000000e+00</td>\n",
       "    </tr>\n",
       "    <tr>\n",
       "      <th>75%</th>\n",
       "      <td>2.700000e+01</td>\n",
       "      <td>1.479742e+09</td>\n",
       "      <td>1.262592e+08</td>\n",
       "      <td>1.329221e+07</td>\n",
       "      <td>2.000000e+00</td>\n",
       "      <td>2.016061e+07</td>\n",
       "      <td>1.000000e+00</td>\n",
       "      <td>0.000000e+00</td>\n",
       "      <td>2.540000e+02</td>\n",
       "      <td>1.000000e+00</td>\n",
       "      <td>1.000000e+00</td>\n",
       "      <td>6.064000e+03</td>\n",
       "      <td>1.519461e+06</td>\n",
       "      <td>2.800000e+01</td>\n",
       "      <td>1.000000e+00</td>\n",
       "    </tr>\n",
       "    <tr>\n",
       "      <th>max</th>\n",
       "      <td>2.597310e+05</td>\n",
       "      <td>1.480636e+09</td>\n",
       "      <td>1.372601e+08</td>\n",
       "      <td>1.472086e+07</td>\n",
       "      <td>7.300000e+01</td>\n",
       "      <td>3.000010e+07</td>\n",
       "      <td>2.000000e+00</td>\n",
       "      <td>2.000000e+00</td>\n",
       "      <td>6.553500e+04</td>\n",
       "      <td>1.000000e+00</td>\n",
       "      <td>1.000000e+00</td>\n",
       "      <td>1.991700e+04</td>\n",
       "      <td>1.144741e+07</td>\n",
       "      <td>3.000000e+01</td>\n",
       "      <td>1.000000e+00</td>\n",
       "    </tr>\n",
       "  </tbody>\n",
       "</table>\n",
       "</div>"
      ],
      "text/plain": [
       "           genre_id     ts_listen      media_id      album_id  context_type  \\\n",
       "count  7.558834e+06  7.558834e+06  7.558834e+06  7.558834e+06  7.558834e+06   \n",
       "mean   2.245030e+03  1.479011e+09  7.839624e+07  8.136169e+06  2.360018e+00   \n",
       "std    1.308979e+04  1.189935e+07  5.133633e+07  5.460090e+06  4.659856e+00   \n",
       "min    0.000000e+00  1.000000e+00  2.000580e+05  1.976000e+03  0.000000e+00   \n",
       "25%    0.000000e+00  1.478460e+09  1.376614e+07  1.255566e+06  0.000000e+00   \n",
       "50%    3.000000e+00  1.479057e+09  9.380660e+07  9.525626e+06  1.000000e+00   \n",
       "75%    2.700000e+01  1.479742e+09  1.262592e+08  1.329221e+07  2.000000e+00   \n",
       "max    2.597310e+05  1.480636e+09  1.372601e+08  1.472086e+07  7.300000e+01   \n",
       "\n",
       "       release_date  platform_name  platform_family  media_duration  \\\n",
       "count  7.558834e+06   7.558834e+06     7.558834e+06    7.558834e+06   \n",
       "mean   2.011388e+07   4.731900e-01     2.558086e-01    2.311527e+02   \n",
       "std    7.570138e+04   7.353008e-01     5.481663e-01    7.999463e+01   \n",
       "min    1.900010e+07   0.000000e+00     0.000000e+00    0.000000e+00   \n",
       "25%    2.009123e+07   0.000000e+00     0.000000e+00    1.960000e+02   \n",
       "50%    2.014103e+07   0.000000e+00     0.000000e+00    2.220000e+02   \n",
       "75%    2.016061e+07   1.000000e+00     0.000000e+00    2.540000e+02   \n",
       "max    3.000010e+07   2.000000e+00     2.000000e+00    6.553500e+04   \n",
       "\n",
       "        listen_type   user_gender       user_id     artist_id      user_age  \\\n",
       "count  7.558834e+06  7.558834e+06  7.558834e+06  7.558834e+06  7.558834e+06   \n",
       "mean   3.068742e-01  3.936884e-01  4.037300e+03  1.500740e+06  2.431278e+01   \n",
       "std    4.611968e-01  4.885672e-01  3.954754e+03  2.519546e+06  3.767797e+00   \n",
       "min    0.000000e+00  0.000000e+00  0.000000e+00  1.000000e+00  1.800000e+01   \n",
       "25%    0.000000e+00  0.000000e+00  8.990000e+02  2.605000e+03  2.100000e+01   \n",
       "50%    0.000000e+00  0.000000e+00  2.738000e+03  1.941720e+05  2.500000e+01   \n",
       "75%    1.000000e+00  1.000000e+00  6.064000e+03  1.519461e+06  2.800000e+01   \n",
       "max    1.000000e+00  1.000000e+00  1.991700e+04  1.144741e+07  3.000000e+01   \n",
       "\n",
       "        is_listened  \n",
       "count  7.558834e+06  \n",
       "mean   6.840330e-01  \n",
       "std    4.648999e-01  \n",
       "min    0.000000e+00  \n",
       "25%    0.000000e+00  \n",
       "50%    1.000000e+00  \n",
       "75%    1.000000e+00  \n",
       "max    1.000000e+00  "
      ]
     },
     "execution_count": 55,
     "metadata": {},
     "output_type": "execute_result"
    }
   ],
   "source": [
    "# Let's check out some summary statistics\n",
    "data.describe()"
   ]
  },
  {
   "cell_type": "code",
   "execution_count": 4,
   "metadata": {
    "collapsed": false
   },
   "outputs": [
    {
     "name": "stdout",
     "output_type": "stream",
     "text": [
      "There are 452975 unique songs and 19918 unique users\n"
     ]
    }
   ],
   "source": [
    "unique_songs = len(set(data[\"media_id\"]))\n",
    "unique_users = len(set(data[\"user_id\"]))\n",
    "\n",
    "print(\"There are %d unique songs and %d unique users\" % (unique_songs, unique_users))"
   ]
  },
  {
   "cell_type": "code",
   "execution_count": 8,
   "metadata": {
    "collapsed": false
   },
   "outputs": [
    {
     "data": {
      "text/plain": [
       "[(132434634, 20148),\n",
       " (133165774, 17652),\n",
       " (132123604, 16289),\n",
       " (132123626, 15131),\n",
       " (132123630, 14347),\n",
       " (129632340, 13076),\n",
       " (131576046, 12709),\n",
       " (132614858, 12394),\n",
       " (134748108, 12257),\n",
       " (133661814, 11663)]"
      ]
     },
     "execution_count": 8,
     "metadata": {},
     "output_type": "execute_result"
    }
   ],
   "source": [
    "import collections\n",
    "counter=collections.Counter(data[\"media_id\"])\n",
    "\n",
    "# See the 10 most played songs\n",
    "counter.most_common(10)"
   ]
  },
  {
   "cell_type": "code",
   "execution_count": 30,
   "metadata": {
    "collapsed": false
   },
   "outputs": [
    {
     "data": {
      "image/png": "[encoded data removed]",
      "text/plain": [
       "<matplotlib.figure.Figure at 0x1139f58d0>"
      ]
     },
     "metadata": {},
     "output_type": "display_data"
    }
   ],
   "source": [
    "# Visualize the distribution of plays per song\n",
    "play_counts = counter.values()\n",
    "plt.hist(play_counts, bins=np.logspace(0.1, 4.0, 50), log = True)\n",
    "plt.gca().set_xscale(\"log\")\n",
    "plt.xlabel(\"Play count\")\n",
    "plt.ylabel(\"Number of songs\")\n",
    "plt.title(\"Distribution of play counts and songs\")\n",
    "plt.show()"
   ]
  },
  {
   "cell_type": "markdown",
   "metadata": {},
   "source": [
    "What we see in the previous graph is a log relationship - there are a few popular songs that are played very often, but most of the songs do not get played much"
   ]
  },
  {
   "cell_type": "code",
   "execution_count": 36,
   "metadata": {
    "collapsed": false
   },
   "outputs": [
    {
     "data": {
      "image/png": "[encoded data removed]",
      "text/plain": [
       "<matplotlib.figure.Figure at 0x10a3957d0>"
      ]
     },
     "metadata": {},
     "output_type": "display_data"
    }
   ],
   "source": [
    "counter=collections.Counter(data[\"platform_family\"])\n",
    "\n",
    "plt.pie([float(v) for v in counter.values()], labels=[float(k) for k in counter],\n",
    "           autopct=None)\n",
    "plt.title(\"Platform family breakdown\")\n",
    "plt.show()"
   ]
  },
  {
   "cell_type": "code",
   "execution_count": 48,
   "metadata": {
    "collapsed": false
   },
   "outputs": [
    {
     "data": {
      "image/png": "[encoded data removed]",
      "text/plain": [
       "<matplotlib.figure.Figure at 0x113c08450>"
      ]
     },
     "metadata": {},
     "output_type": "display_data"
    }
   ],
   "source": [
    "# We need to consider only unique users\n",
    "age_data = data.drop_duplicates(subset = \"user_id\")\n",
    "\n",
    "plt.hist(age_data[\"user_age\"], bins = np.arange(17.5, 30.5, 1))\n",
    "plt.xlabel(\"Age\")\n",
    "plt.ylabel(\"Count\")\n",
    "plt.title(\"Age distribution of users\")\n",
    "plt.show()"
   ]
  },
  {
   "cell_type": "code",
   "execution_count": 59,
   "metadata": {
    "collapsed": false
   },
   "outputs": [
    {
     "data": {
      "image/png": "[encoded data removed]",
      "text/plain": [
       "<matplotlib.figure.Figure at 0x1136da2d0>"
      ]
     },
     "metadata": {},
     "output_type": "display_data"
    }
   ],
   "source": [
    "plt.hist(data[\"media_duration\"], bins=np.logspace(0.1, 4.0, 50), log = True)\n",
    "plt.gca().set_xscale(\"log\")\n",
    "plt.xlabel(\"Duration\")\n",
    "plt.ylabel(\"Number of songs\")\n",
    "plt.title(\"Song duration distribution\")\n",
    "plt.show()\n"
   ]
  },
  {
   "cell_type": "markdown",
   "metadata": {},
   "source": [
    "# Part 2: Building the recommendation engine using Collaborative Filtering\n",
    "I'll be trying out the tutorial from http://www.salemmarafi.com/code/collaborative-filtering-with-python/"
   ]
  }
 ],
 "metadata": {
  "anaconda-cloud": {},
  "kernelspec": {
   "display_name": "Python [conda root]",
   "language": "python",
   "name": "conda-root-py"
  },
  "language_info": {
   "codemirror_mode": {
    "name": "ipython",
    "version": 2
   },
   "file_extension": ".py",
   "mimetype": "text/x-python",
   "name": "python",
   "nbconvert_exporter": "python",
   "pygments_lexer": "ipython2",
   "version": "2.7.13"
  }
 },
 "nbformat": 4,
 "nbformat_minor": 2
}
